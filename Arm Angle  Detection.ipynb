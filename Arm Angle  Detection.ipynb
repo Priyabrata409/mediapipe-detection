{
 "cells": [
  {
   "cell_type": "markdown",
   "id": "672c120f",
   "metadata": {},
   "source": [
    "## Import All Necessary Dependencies"
   ]
  },
  {
   "cell_type": "code",
   "execution_count": 1,
   "id": "56e92c67",
   "metadata": {},
   "outputs": [],
   "source": [
    "import time \n",
    "import math\n",
    "import cv2\n",
    "import mediapipe as mp\n",
    "from PIL import ImageFont, ImageDraw, Image\n",
    "import numpy as np"
   ]
  },
  {
   "cell_type": "markdown",
   "id": "85a68c49",
   "metadata": {},
   "source": [
    "## Intialize holistic module and drawing module"
   ]
  },
  {
   "cell_type": "code",
   "execution_count": 2,
   "id": "920e4fc7",
   "metadata": {},
   "outputs": [],
   "source": [
    "mp_holistic=mp.solutions.holistic\n",
    "mp_draw=mp.solutions.drawing_utils"
   ]
  },
  {
   "cell_type": "markdown",
   "id": "679ddc93",
   "metadata": {},
   "source": [
    "## Create a function to measure the angle between fore arm and upper arm"
   ]
  },
  {
   "cell_type": "code",
   "execution_count": 3,
   "id": "7aa02f9a",
   "metadata": {},
   "outputs": [],
   "source": [
    "def get_angle(results):\n",
    "    cord1=[int(results.pose_landmarks.landmark[mp_holistic.PoseLandmark.RIGHT_SHOULDER].x*640),\n",
    "          int(results.pose_landmarks.landmark[mp_holistic.PoseLandmark.RIGHT_SHOULDER].y*480)]\n",
    "    cord2=[int(results.pose_landmarks.landmark[mp_holistic.PoseLandmark.RIGHT_ELBOW].x*640),\n",
    "          int(results.pose_landmarks.landmark[mp_holistic.PoseLandmark.RIGHT_ELBOW].y*480)]\n",
    "    cord3=[int(results.pose_landmarks.landmark[mp_holistic.PoseLandmark.RIGHT_WRIST].x*640),\n",
    "          int(results.pose_landmarks.landmark[mp_holistic.PoseLandmark.RIGHT_WRIST].y*480)]\n",
    "    s=((cord1[0]-cord2[0])*(cord3[0]-cord2[0])) + ((cord1[1]-cord2[1])*(cord3[1]-cord2[1]) )\n",
    "    a1=np.sqrt((cord1[0]-cord2[0])**2 +  (cord1[1]-cord2[1])**2)\n",
    "    a2=np.sqrt((cord3[0]-cord2[0])**2 +  (cord3[1]-cord2[1])**2)\n",
    "    angle= math.degrees(math.acos(s/(a1*a2)))\n",
    "    return angle "
   ]
  },
  {
   "cell_type": "markdown",
   "id": "0c250793",
   "metadata": {},
   "source": [
    "## Define a method to draw fore and upper arm"
   ]
  },
  {
   "cell_type": "code",
   "execution_count": 4,
   "id": "c9d8f443",
   "metadata": {},
   "outputs": [],
   "source": [
    "def draw_arm(img,results):\n",
    "    cord1=[int(results.pose_landmarks.landmark[mp_holistic.PoseLandmark.RIGHT_SHOULDER].x*640),\n",
    "          int(results.pose_landmarks.landmark[mp_holistic.PoseLandmark.RIGHT_SHOULDER].y*480)]\n",
    "    cord2=[int(results.pose_landmarks.landmark[mp_holistic.PoseLandmark.RIGHT_ELBOW].x*640),\n",
    "          int(results.pose_landmarks.landmark[mp_holistic.PoseLandmark.RIGHT_ELBOW].y*480)]\n",
    "    cord3=[int(results.pose_landmarks.landmark[mp_holistic.PoseLandmark.RIGHT_WRIST].x*640),\n",
    "          int(results.pose_landmarks.landmark[mp_holistic.PoseLandmark.RIGHT_WRIST].y*480)]\n",
    "    img=cv2.circle(img,tuple(cord1),5,(0,0,255),5)\n",
    "    img=cv2.circle(img,tuple(cord2),5,(0,0,255),5)\n",
    "    img=cv2.circle(img,tuple(cord3),5,(0,0,255),5)\n",
    "    img=cv2.line(img,tuple(cord1),tuple(cord2),(255,0,255),3)\n",
    "    img=cv2.line(img,tuple(cord2),tuple(cord3),(255,0,255),3)\n",
    "    return img"
   ]
  },
  {
   "cell_type": "markdown",
   "id": "03bb3990",
   "metadata": {},
   "source": [
    "## drawing the angle between fore arm and upper arm"
   ]
  },
  {
   "cell_type": "code",
   "execution_count": 5,
   "id": "2f357aa8",
   "metadata": {},
   "outputs": [],
   "source": [
    "def draw_angle(img,results):\n",
    "    angle=get_angle(results)\n",
    "    cord2=[int(results.pose_landmarks.landmark[mp_holistic.PoseLandmark.RIGHT_ELBOW].x*640),\n",
    "          int(results.pose_landmarks.landmark[mp_holistic.PoseLandmark.RIGHT_ELBOW].y*480)]\n",
    "    b,g,r,a = 0,255,255,0\n",
    "    fontpath = \"./simsun.ttc\" # the font that has this \"º\" symbol\n",
    "    font = ImageFont.truetype(fontpath, 32)\n",
    "    img_pil = Image.fromarray(img)\n",
    "    draw = ImageDraw.Draw(img_pil)\n",
    "\n",
    "    draw.text((cord2[0], cord2[1]),  f\"{round(angle,2)} º\", font = font, fill = (b, g, r, a))\n",
    "\n",
    "    img = np.array(img_pil)\n",
    "    return img"
   ]
  },
  {
   "cell_type": "markdown",
   "id": "833cb98a",
   "metadata": {},
   "source": [
    "## Testing it on realtime"
   ]
  },
  {
   "cell_type": "code",
   "execution_count": 10,
   "id": "526286b3",
   "metadata": {},
   "outputs": [],
   "source": [
    "cap=cv2.VideoCapture(0)\n",
    "s=0\n",
    "holistic=mp_holistic.Holistic( min_detection_confidence=0.8,min_tracking_confidence=0.5)\n",
    "while cap.isOpened():\n",
    "    _,img=cap.read()\n",
    "    img_rgb=cv2.cvtColor(img,cv2.COLOR_BGR2RGB)\n",
    "    results=holistic.process(img_rgb)\n",
    "    e=time.time()\n",
    "    if e-s>0:\n",
    "        fps=1/(e-s)\n",
    "        s=e\n",
    "        img=cv2.putText(img,\"FPS:\"+str(round(fps,2)),(15,30),cv2.FONT_HERSHEY_SIMPLEX,0.7,(255,0,255),2)\n",
    "    if results.pose_landmarks:\n",
    "        img=draw_arm(img,results)\n",
    "        img=draw_angle(img,results)\n",
    "    img=cv2.resize(img,(1000,800))\n",
    "    cv2.imshow(\"Window\",img)\n",
    "    if cv2.waitKey(1) & 0xFF==ord(\"q\"):\n",
    "        break\n",
    "cap.release()\n",
    "cv2.destroyAllWindows()"
   ]
  },
  {
   "cell_type": "code",
   "execution_count": 7,
   "id": "d7b5f613",
   "metadata": {},
   "outputs": [],
   "source": [
    "## If face any issue run this shell to release your webcam manually"
   ]
  },
  {
   "cell_type": "code",
   "execution_count": 8,
   "id": "3dfbdee3",
   "metadata": {},
   "outputs": [],
   "source": [
    "cap.release()\n",
    "cv2.destroyAllWindows()"
   ]
  }
 ],
 "metadata": {
  "kernelspec": {
   "display_name": "Python 3",
   "language": "python",
   "name": "python3"
  },
  "language_info": {
   "codemirror_mode": {
    "name": "ipython",
    "version": 3
   },
   "file_extension": ".py",
   "mimetype": "text/x-python",
   "name": "python",
   "nbconvert_exporter": "python",
   "pygments_lexer": "ipython3",
   "version": "3.8.5"
  }
 },
 "nbformat": 4,
 "nbformat_minor": 5
}
